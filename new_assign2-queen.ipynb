{
 "cells": [
  {
   "cell_type": "markdown",
   "id": "c4a47036-c8dd-4c48-890d-f323f9df3da1",
   "metadata": {},
   "source": [
    "# N-Queens"
   ]
  },
  {
   "cell_type": "code",
   "execution_count": 3,
   "id": "d5ba4b43-df39-4a44-90c5-8bc5346b1d8b",
   "metadata": {},
   "outputs": [
    {
     "name": "stdout",
     "output_type": "stream",
     "text": [
      "algorithm, problm, restarts, max_iters, max_attempts, pop_size, mutation_prob, keep_act, fitness, execution time, iteration, temperature\n"
     ]
    }
   ],
   "source": [
    "print(\"algorithm, problm, restarts, max_iters, max_attempts, pop_size, mutation_prob, keep_act, fitness, execution time, iteration, temperature\")"
   ]
  },
  {
   "cell_type": "code",
   "execution_count": 4,
   "id": "f2ed332f-3440-46e7-ac6a-b42f2d869890",
   "metadata": {},
   "outputs": [],
   "source": [
    "import mlrose_hiive as mlrose\n",
    "import numpy as np\n",
    "import time"
   ]
  },
  {
   "cell_type": "code",
   "execution_count": 6,
   "id": "537ea733-762f-4087-8993-28bbed9e67cc",
   "metadata": {},
   "outputs": [],
   "source": [
    "np.random.seed(7641)\n",
    "\n",
    "# Define the fitness function for the N-Queens problem\n",
    "fitness_fn = mlrose.Queens()\n",
    "\n",
    "# Define the optimization problem object\n",
    "problemq_20 = mlrose.DiscreteOpt(length=20, fitness_fn=fitness_fn, maximize=True, max_val=20)\n",
    "problemq_40 = mlrose.DiscreteOpt(length=40, fitness_fn=fitness_fn, maximize=True, max_val=40)\n",
    "problemq_80 = mlrose.DiscreteOpt(length=80, fitness_fn=fitness_fn, maximize=True, max_val=80)\n",
    "problemq_160 = mlrose.DiscreteOpt(length=160, fitness_fn=fitness_fn, maximize=True, max_val=160)"
   ]
  },
  {
   "cell_type": "code",
   "execution_count": 7,
   "id": "b84a5f1f-e6e0-443a-9894-b831d882ee26",
   "metadata": {
    "scrolled": true
   },
   "outputs": [],
   "source": [
    "## Random Hill Climbing\n",
    "\n",
    "def rhc(problem, problem_name, restarts, max_iters, max_attempts):\n",
    "    start_time = time.perf_counter()\n",
    "    best_state, best_fitness, curve, global_iters = mlrose.random_hill_climb(problem, restarts=restarts, max_iters=max_iters, max_attempts=max_attempts, curve = True)\n",
    "    rhc_time = time.perf_counter() - start_time\n",
    "    print(\"RHC,{0}, {1}, {2}, {3}, {4}, {5:.1f}, {6:.1f}, {7:.1f}, {8:.4f}, {9}\".format(problem_name, restarts, max_iters, max_attempts, 0, 0, 0, best_fitness, rhc_time, global_iters))"
   ]
  },
  {
   "cell_type": "code",
   "execution_count": 8,
   "id": "f698a494-3837-4468-83c9-1d7909eecb9b",
   "metadata": {},
   "outputs": [],
   "source": [
    "## Simulated_Annealing\n",
    "\n",
    "def sa(problem, problem_name, schedule=mlrose.ArithDecay(init_temp=10), max_iters=5000, max_attempts=10, random_state = 7641, curve = True):\n",
    "    start_time = time.perf_counter()\n",
    "    best_state, best_fitness, curve = mlrose.simulated_annealing(problem, schedule = schedule, max_attempts=max_attempts, max_iters=max_iters, random_state = random_state, curve = curve)\n",
    "    sa_time = time.perf_counter() - start_time\n",
    "    print(\"SA,{0}, {1}, {2}, {3}, {4}, {5:.1f}, {6:.1f}, {7:.1f}, {8:.4f}, {9}, {10}\".format(problem_name, 0, max_iters, max_attempts, 0, 0, 0, best_fitness, sa_time, len(curve), schedule))"
   ]
  },
  {
   "cell_type": "code",
   "execution_count": 9,
   "id": "b150289d-85e4-4b76-84ea-86771f62322a",
   "metadata": {},
   "outputs": [],
   "source": [
    "## Genetic Algorithm\n",
    "\n",
    "def ga(problem, problem_name, max_iters=100, max_attempts=100, pop_size=400, mutation_prob = 0.1, random_state = 7641, curve = True):\n",
    "    start_time = time.perf_counter()\n",
    "    best_state, best_fitness, curve = mlrose.genetic_alg(problem, random_state = random_state, curve=curve, max_iters=max_iters, max_attempts=max_attempts, pop_size=pop_size, mutation_prob=mutation_prob)\n",
    "    ga_time = time.perf_counter() - start_time\n",
    "    print(\"GA,{0}, {1}, {2}, {3}, {4}, {5:.1f}, {6:.1f}, {7:.1f}, {8:.4f}, {9}\".format(problem_name, 0, max_iters, max_attempts, pop_size, mutation_prob, 0, best_fitness, ga_time, len(curve)))"
   ]
  },
  {
   "cell_type": "code",
   "execution_count": 10,
   "id": "53adf8ef-4422-450b-a0fb-745c541b7e32",
   "metadata": {},
   "outputs": [],
   "source": [
    "## MIMIC\n",
    "\n",
    "def mimic(problem, problem_name, max_iters=10, max_attempts=10, pop_size=6000, keep_pct = 0.2, random_state = 7641, curve = True):\n",
    "    start_time = time.perf_counter()\n",
    "    best_state, best_fitness, curve = mlrose.mimic(problem, max_attempts=max_attempts, max_iters=max_iters, random_state = random_state, pop_size= pop_size, keep_pct = keep_pct, curve = curve)\n",
    "    ga_time = time.perf_counter() - start_time\n",
    "    print(\"MIMIC,{0}, {1}, {2}, {3}, {4}, {5:.1f}, {6:.1f}, {7:.1f}, {8:.4f}, {9}\".format(problem_name, 0, max_iters, max_attempts, pop_size, 0, keep_pct, best_fitness, ga_time, len(curve)))"
   ]
  },
  {
   "cell_type": "markdown",
   "id": "fbb04d11-6b23-4ded-928a-78c44676c805",
   "metadata": {},
   "source": [
    "## RHC"
   ]
  },
  {
   "cell_type": "code",
   "execution_count": 15,
   "id": "92ad674e-79ce-4e14-b2f1-6988cd598081",
   "metadata": {},
   "outputs": [
    {
     "name": "stdout",
     "output_type": "stream",
     "text": [
      "RHC,Q_20, 100, inf, 10, 0, 0.0, 0.0, 63.0, 1.2367, 4062\n",
      "RHC,Q_20, 200, inf, 10, 0, 0.0, 0.0, 63.0, 2.5279, 7979\n",
      "RHC,Q_20, 300, inf, 10, 0, 0.0, 0.0, 63.0, 3.7771, 12162\n",
      "RHC,Q_20, 400, inf, 10, 0, 0.0, 0.0, 63.0, 5.1341, 16242\n",
      "RHC,Q_20, 500, inf, 10, 0, 0.0, 0.0, 64.0, 7.2223, 20332\n",
      "RHC,Q_20, 600, inf, 10, 0, 0.0, 0.0, 82.0, 8.4161, 24206\n",
      "RHC,Q_20, 700, inf, 10, 0, 0.0, 0.0, 82.0, 9.1163, 28409\n",
      "RHC,Q_20, 800, inf, 10, 0, 0.0, 0.0, 82.0, 10.7567, 32213\n",
      "RHC,Q_20, 900, inf, 10, 0, 0.0, 0.0, 82.0, 11.9000, 36234\n",
      "RHC,Q_20, 1000, inf, 10, 0, 0.0, 0.0, 82.0, 12.9778, 40360\n"
     ]
    }
   ],
   "source": [
    "for i in range(100, 1100, 100):\n",
    "    np.random.seed(7641)\n",
    "    rhc(problemq_20, \"Q_20\", i, np.inf, 10)"
   ]
  },
  {
   "cell_type": "markdown",
   "id": "5aec1f3c-672a-4a78-8531-c8c386d70662",
   "metadata": {},
   "source": [
    "## SA"
   ]
  },
  {
   "cell_type": "code",
   "execution_count": 16,
   "id": "4cdc030d-e799-4c7e-8d28-adb2fb422f21",
   "metadata": {},
   "outputs": [
    {
     "name": "stdout",
     "output_type": "stream",
     "text": [
      "SA,Q_20, 0, inf, 10, 0, 0.0, 0.0, 47.0, 0.0370, 93, 1\n",
      "SA,Q_20, 0, inf, 10, 0, 0.0, 0.0, 48.0, 0.1853, 464, 2\n",
      "SA,Q_20, 0, inf, 10, 0, 0.0, 0.0, 28.0, 2.3832, 5005, 3\n",
      "SA,Q_20, 0, inf, 10, 0, 0.0, 0.0, 52.0, 5.0575, 10545, 4\n",
      "SA,Q_20, 0, inf, 10, 0, 0.0, 0.0, 39.0, 10.9025, 22444, 5\n",
      "SA,Q_20, 0, inf, 10, 0, 0.0, 0.0, 76.0, 14.4880, 29805, 6\n",
      "SA,Q_20, 0, inf, 10, 0, 0.0, 0.0, 62.0, 21.7791, 46716, 7\n",
      "SA,Q_20, 0, inf, 10, 0, 0.0, 0.0, 40.0, 24.9417, 53215, 8\n",
      "SA,Q_20, 0, inf, 10, 0, 0.0, 0.0, 128.0, 31.0372, 65958, 9\n",
      "SA,Q_20, 0, inf, 10, 0, 0.0, 0.0, 36.0, 35.6125, 73879, 10\n"
     ]
    }
   ],
   "source": [
    "for i in range(1, 11, 1):\n",
    "    np.random.seed(7641)\n",
    "    sa(problemq_20, \"Q_20\", mlrose.ArithDecay(init_temp=i), np.inf, 10)"
   ]
  },
  {
   "cell_type": "markdown",
   "id": "0b857ba9-7f79-40e4-bfdd-ac21be439294",
   "metadata": {},
   "source": [
    "## GA"
   ]
  },
  {
   "cell_type": "code",
   "execution_count": 18,
   "id": "fa7f9de8-42d8-4c72-a74c-77cdd83bf5fc",
   "metadata": {},
   "outputs": [
    {
     "name": "stdout",
     "output_type": "stream",
     "text": [
      "GA,Q_20, 0, inf, 10, 40, 0.1, 0.0, 68.0, 0.4322, 36\n",
      "GA,Q_20, 0, inf, 10, 80, 0.1, 0.0, 97.0, 1.1266, 45\n",
      "GA,Q_20, 0, inf, 10, 120, 0.1, 0.0, 95.0, 1.7600, 51\n",
      "GA,Q_20, 0, inf, 10, 160, 0.1, 0.0, 119.0, 2.5480, 55\n",
      "GA,Q_20, 0, inf, 10, 200, 0.1, 0.0, 145.0, 2.9692, 52\n",
      "GA,Q_20, 0, inf, 10, 240, 0.1, 0.0, 120.0, 4.7224, 69\n",
      "GA,Q_20, 0, inf, 10, 280, 0.1, 0.0, 158.0, 3.6326, 46\n",
      "GA,Q_20, 0, inf, 10, 320, 0.1, 0.0, 158.0, 3.9144, 43\n",
      "GA,Q_20, 0, inf, 10, 360, 0.1, 0.0, 173.0, 4.3289, 43\n",
      "GA,Q_20, 0, inf, 10, 400, 0.1, 0.0, 173.0, 4.8395, 41\n",
      "GA,Q_20, 0, inf, 10, 440, 0.1, 0.0, 173.0, 5.1020, 40\n",
      "GA,Q_20, 0, inf, 10, 480, 0.1, 0.0, 173.0, 5.8944, 41\n",
      "GA,Q_20, 0, inf, 10, 520, 0.1, 0.0, 158.0, 6.2554, 40\n",
      "GA,Q_20, 0, inf, 10, 560, 0.1, 0.0, 173.0, 6.7351, 41\n",
      "GA,Q_20, 0, inf, 10, 600, 0.1, 0.0, 173.0, 8.6691, 49\n",
      "GA,Q_20, 0, inf, 10, 640, 0.1, 0.0, 190.0, 7.3234, 41\n",
      "GA,Q_20, 0, inf, 10, 680, 0.1, 0.0, 173.0, 8.1415, 42\n",
      "GA,Q_20, 0, inf, 10, 720, 0.1, 0.0, 173.0, 8.1203, 40\n",
      "GA,Q_20, 0, inf, 10, 760, 0.1, 0.0, 158.0, 9.8285, 46\n",
      "GA,Q_20, 0, inf, 10, 800, 0.1, 0.0, 173.0, 9.2370, 39\n"
     ]
    }
   ],
   "source": [
    "for i in range(40, 840, 40):\n",
    "    np.random.seed(7641)\n",
    "    ga(problemq_20, \"Q_20\", np.inf, 10, i)"
   ]
  },
  {
   "cell_type": "markdown",
   "id": "eb7fda68-683a-4241-8987-57cfe293dd8e",
   "metadata": {},
   "source": [
    "# MIMIC"
   ]
  },
  {
   "cell_type": "code",
   "execution_count": 19,
   "id": "1aebba71-2ea5-4c35-8474-10fc9c0257f8",
   "metadata": {},
   "outputs": [
    {
     "name": "stdout",
     "output_type": "stream",
     "text": [
      "MIMIC,Q_20, 0, inf, 10, 40, 0.0, 0.2, 30.0, 1.5507, 12\n",
      "MIMIC,Q_20, 0, inf, 10, 80, 0.0, 0.2, 37.0, 1.7537, 13\n",
      "MIMIC,Q_20, 0, inf, 10, 120, 0.0, 0.2, 44.0, 1.9767, 13\n",
      "MIMIC,Q_20, 0, inf, 10, 160, 0.0, 0.2, 39.0, 2.4662, 15\n",
      "MIMIC,Q_20, 0, inf, 10, 200, 0.0, 0.2, 44.0, 2.4451, 14\n",
      "MIMIC,Q_20, 0, inf, 10, 240, 0.0, 0.2, 50.0, 2.9237, 16\n",
      "MIMIC,Q_20, 0, inf, 10, 280, 0.0, 0.2, 53.0, 2.8461, 15\n",
      "MIMIC,Q_20, 0, inf, 10, 320, 0.0, 0.2, 61.0, 4.5931, 23\n",
      "MIMIC,Q_20, 0, inf, 10, 360, 0.0, 0.2, 58.0, 4.5944, 20\n",
      "MIMIC,Q_20, 0, inf, 10, 400, 0.0, 0.2, 83.0, 4.6279, 20\n",
      "MIMIC,Q_20, 0, inf, 10, 440, 0.0, 0.2, 63.0, 4.3007, 17\n",
      "MIMIC,Q_20, 0, inf, 10, 480, 0.0, 0.2, 83.0, 4.8963, 20\n",
      "MIMIC,Q_20, 0, inf, 10, 520, 0.0, 0.2, 92.0, 4.2149, 17\n",
      "MIMIC,Q_20, 0, inf, 10, 560, 0.0, 0.2, 104.0, 5.4548, 21\n",
      "MIMIC,Q_20, 0, inf, 10, 600, 0.0, 0.2, 102.0, 6.2380, 22\n",
      "MIMIC,Q_20, 0, inf, 10, 640, 0.0, 0.2, 93.0, 5.5045, 19\n",
      "MIMIC,Q_20, 0, inf, 10, 680, 0.0, 0.2, 64.0, 5.6326, 19\n",
      "MIMIC,Q_20, 0, inf, 10, 720, 0.0, 0.2, 77.0, 6.4190, 21\n",
      "MIMIC,Q_20, 0, inf, 10, 760, 0.0, 0.2, 93.0, 6.5771, 21\n",
      "MIMIC,Q_20, 0, inf, 10, 800, 0.0, 0.2, 115.0, 8.8195, 27\n",
      "MIMIC,Q_20, 0, inf, 10, 840, 0.0, 0.2, 100.0, 6.7877, 19\n",
      "MIMIC,Q_20, 0, inf, 10, 880, 0.0, 0.2, 103.0, 7.8242, 22\n",
      "MIMIC,Q_20, 0, inf, 10, 920, 0.0, 0.2, 100.0, 6.7444, 19\n",
      "MIMIC,Q_20, 0, inf, 10, 960, 0.0, 0.2, 131.0, 9.0939, 25\n",
      "MIMIC,Q_20, 0, inf, 10, 1000, 0.0, 0.2, 127.0, 7.9500, 21\n",
      "MIMIC,Q_20, 0, inf, 10, 1040, 0.0, 0.2, 104.0, 8.5868, 22\n",
      "MIMIC,Q_20, 0, inf, 10, 1080, 0.0, 0.2, 100.0, 7.6082, 19\n",
      "MIMIC,Q_20, 0, inf, 10, 1120, 0.0, 0.2, 102.0, 8.2054, 20\n",
      "MIMIC,Q_20, 0, inf, 10, 1160, 0.0, 0.2, 91.0, 8.6833, 20\n"
     ]
    }
   ],
   "source": [
    "for i in range(40, 1200, 40):\n",
    "    np.random.seed(7641)\n",
    "    mimic(problemq_20, \"Q_20\", np.inf, 10,  i, 0.2)"
   ]
  },
  {
   "cell_type": "code",
   "execution_count": null,
   "id": "df5b6641-1f71-40a6-9f63-ce46338a9e73",
   "metadata": {},
   "outputs": [],
   "source": []
  }
 ],
 "metadata": {
  "kernelspec": {
   "display_name": "Python 3 (ipykernel)",
   "language": "python",
   "name": "python3"
  },
  "language_info": {
   "codemirror_mode": {
    "name": "ipython",
    "version": 3
   },
   "file_extension": ".py",
   "mimetype": "text/x-python",
   "name": "python",
   "nbconvert_exporter": "python",
   "pygments_lexer": "ipython3",
   "version": "3.11.8"
  }
 },
 "nbformat": 4,
 "nbformat_minor": 5
}
