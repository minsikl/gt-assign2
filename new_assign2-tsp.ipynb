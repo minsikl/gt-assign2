{
 "cells": [
  {
   "cell_type": "markdown",
   "id": "c4a47036-c8dd-4c48-890d-f323f9df3da1",
   "metadata": {},
   "source": [
    "# TSP"
   ]
  },
  {
   "cell_type": "code",
   "execution_count": 24,
   "id": "d5ba4b43-df39-4a44-90c5-8bc5346b1d8b",
   "metadata": {},
   "outputs": [
    {
     "name": "stdout",
     "output_type": "stream",
     "text": [
      "algorithm, problm, restarts, max_iters, max_attempts, pop_size, mutation_prob, keep_act, fitness, execution time, iteration, temperature\n"
     ]
    }
   ],
   "source": [
    "print(\"algorithm, problm, restarts, max_iters, max_attempts, pop_size, mutation_prob, keep_act, fitness, execution time, iteration, temperature\")"
   ]
  },
  {
   "cell_type": "code",
   "execution_count": 25,
   "id": "f2ed332f-3440-46e7-ac6a-b42f2d869890",
   "metadata": {},
   "outputs": [],
   "source": [
    "import mlrose_hiive as mlrose\n",
    "import numpy as np\n",
    "import time"
   ]
  },
  {
   "cell_type": "code",
   "execution_count": 26,
   "id": "4a825ddf-9363-4224-bd5d-e2aaaf2d6805",
   "metadata": {},
   "outputs": [],
   "source": [
    "np.random.seed(7641)\n",
    "\n",
    "# Define TSP problem\n",
    "\n",
    "def get_tsp_coordinates(size):\n",
    "    unique_coordinates = set()\n",
    "    \n",
    "    while len(unique_coordinates) < 20:\n",
    "        coord = (np.random.randint(1, 1000), np.random.randint(1, 1000))\n",
    "        unique_coordinates.add(coord)\n",
    "    \n",
    "    coordinates_list = list(unique_coordinates)\n",
    "    fitness_coords = mlrose.TravellingSales(coords = coordinates_list)\n",
    "    return fitness_coords, len(coordinates_list)\n",
    "    \n",
    "fitness_coords, length = get_tsp_coordinates(20)\n",
    "problem_tsp_20 = mlrose.TSPOpt(length = length, fitness_fn = fitness_coords, maximize=True)\n",
    "fitness_coords, length = get_tsp_coordinates(40)\n",
    "problem_tsp_40 = mlrose.TSPOpt(length = length, fitness_fn = fitness_coords, maximize=True)\n",
    "fitness_coords, length = get_tsp_coordinates(80)\n",
    "problem_tsp_80 = mlrose.TSPOpt(length = length, fitness_fn = fitness_coords, maximize=True)\n",
    "fitness_coords, length = get_tsp_coordinates(160)\n",
    "problem_tsp_160 = mlrose.TSPOpt(length = length, fitness_fn = fitness_coords, maximize=True)"
   ]
  },
  {
   "cell_type": "code",
   "execution_count": 27,
   "id": "b84a5f1f-e6e0-443a-9894-b831d882ee26",
   "metadata": {
    "scrolled": true
   },
   "outputs": [],
   "source": [
    "## Random Hill Climbing\n",
    "\n",
    "def rhc(problem, problem_name, restarts, max_iters, max_attempts):\n",
    "    start_time = time.perf_counter()\n",
    "    best_state, best_fitness, curve, global_iters = mlrose.random_hill_climb(problem, restarts=restarts, max_iters=max_iters, max_attempts=max_attempts, curve = True)\n",
    "    rhc_time = time.perf_counter() - start_time\n",
    "    print(\"RHC,{0}, {1}, {2}, {3}, {4}, {5:.1f}, {6:.1f}, {7:.1f}, {8:.4f}, {9}\".format(problem_name, restarts, max_iters, max_attempts, 0, 0, 0, best_fitness, rhc_time, global_iters))"
   ]
  },
  {
   "cell_type": "code",
   "execution_count": 28,
   "id": "f698a494-3837-4468-83c9-1d7909eecb9b",
   "metadata": {},
   "outputs": [],
   "source": [
    "## Simulated_Annealing\n",
    "\n",
    "def sa(problem, problem_name, schedule=mlrose.ArithDecay(init_temp=10), max_iters=5000, max_attempts=10, random_state = 7641, curve = True):\n",
    "    start_time = time.perf_counter()\n",
    "    best_state, best_fitness, curve = mlrose.simulated_annealing(problem, schedule = schedule, max_attempts=max_attempts, max_iters=max_iters, random_state = random_state, curve = curve)\n",
    "    sa_time = time.perf_counter() - start_time\n",
    "    print(\"SA,{0}, {1}, {2}, {3}, {4}, {5:.1f}, {6:.1f}, {7:.1f}, {8:.4f}, {9}, {10}\".format(problem_name, 0, max_iters, max_attempts, 0, 0, 0, best_fitness, sa_time, len(curve), schedule))"
   ]
  },
  {
   "cell_type": "code",
   "execution_count": 29,
   "id": "b150289d-85e4-4b76-84ea-86771f62322a",
   "metadata": {},
   "outputs": [],
   "source": [
    "## Genetic Algorithm\n",
    "\n",
    "def ga(problem, problem_name, max_iters=100, max_attempts=100, pop_size=400, mutation_prob = 0.1, random_state = 7641, curve = True):\n",
    "    start_time = time.perf_counter()\n",
    "    best_state, best_fitness, curve = mlrose.genetic_alg(problem, random_state = random_state, curve=curve, max_iters=max_iters, max_attempts=max_attempts, pop_size=pop_size, mutation_prob=mutation_prob)\n",
    "    ga_time = time.perf_counter() - start_time\n",
    "    print(\"GA,{0}, {1}, {2}, {3}, {4}, {5:.1f}, {6:.1f}, {7:.1f}, {8:.4f}, {9}\".format(problem_name, 0, max_iters, max_attempts, pop_size, mutation_prob, 0, best_fitness, ga_time, len(curve)))"
   ]
  },
  {
   "cell_type": "code",
   "execution_count": 30,
   "id": "53adf8ef-4422-450b-a0fb-745c541b7e32",
   "metadata": {},
   "outputs": [],
   "source": [
    "## MIMIC\n",
    "\n",
    "def mimic(problem, problem_name, max_iters=10, max_attempts=10, pop_size=6000, keep_pct = 0.2, random_state = 7641, curve = True):\n",
    "    start_time = time.perf_counter()\n",
    "    best_state, best_fitness, curve = mlrose.mimic(problem, max_attempts=max_attempts, max_iters=max_iters, random_state = random_state, pop_size= pop_size, keep_pct = keep_pct, curve = curve)\n",
    "    ga_time = time.perf_counter() - start_time\n",
    "    print(\"MIMIC,{0}, {1}, {2}, {3}, {4}, {5:.1f}, {6:.1f}, {7:.1f}, {8:.4f}, {9}\".format(problem_name, 0, max_iters, max_attempts, pop_size, 0, keep_pct, best_fitness, ga_time, len(curve)))"
   ]
  },
  {
   "cell_type": "markdown",
   "id": "fbb04d11-6b23-4ded-928a-78c44676c805",
   "metadata": {},
   "source": [
    "## RHC"
   ]
  },
  {
   "cell_type": "code",
   "execution_count": 33,
   "id": "92ad674e-79ce-4e14-b2f1-6988cd598081",
   "metadata": {},
   "outputs": [
    {
     "name": "stdout",
     "output_type": "stream",
     "text": [
      "RHC,TSP_160, 100, inf, 10, 0, 0.0, 0.0, 14418.9, 0.2268, 4558\n",
      "RHC,TSP_160, 200, inf, 10, 0, 0.0, 0.0, 14458.6, 0.3223, 8852\n",
      "RHC,TSP_160, 300, inf, 10, 0, 0.0, 0.0, 14524.8, 0.5430, 13460\n",
      "RHC,TSP_160, 400, inf, 10, 0, 0.0, 0.0, 14646.2, 0.7192, 17620\n",
      "RHC,TSP_160, 500, inf, 10, 0, 0.0, 0.0, 14646.2, 0.9435, 21974\n",
      "RHC,TSP_160, 600, inf, 10, 0, 0.0, 0.0, 14646.2, 1.0535, 26091\n",
      "RHC,TSP_160, 700, inf, 10, 0, 0.0, 0.0, 14646.2, 1.3028, 30722\n",
      "RHC,TSP_160, 800, inf, 10, 0, 0.0, 0.0, 14646.2, 1.4285, 34774\n",
      "RHC,TSP_160, 900, inf, 10, 0, 0.0, 0.0, 14646.2, 1.6137, 39113\n",
      "RHC,TSP_160, 1000, inf, 10, 0, 0.0, 0.0, 14646.2, 1.9236, 43255\n"
     ]
    }
   ],
   "source": [
    "for i in range(100, 1100, 100):\n",
    "    np.random.seed(7641)\n",
    "    rhc(problem_tsp_160, \"TSP_160\", i, np.inf, 10)    "
   ]
  },
  {
   "cell_type": "markdown",
   "id": "5aec1f3c-672a-4a78-8531-c8c386d70662",
   "metadata": {},
   "source": [
    "## SA"
   ]
  },
  {
   "cell_type": "code",
   "execution_count": 34,
   "id": "4cdc030d-e799-4c7e-8d28-adb2fb422f21",
   "metadata": {},
   "outputs": [
    {
     "name": "stdout",
     "output_type": "stream",
     "text": [
      "SA,TSP_160, 0, inf, 10, 0, 0.0, 0.0, 13392.6, 0.0050, 35, 10\n",
      "SA,TSP_160, 0, inf, 10, 0, 0.0, 0.0, 13392.6, 0.0043, 35, 20\n",
      "SA,TSP_160, 0, inf, 10, 0, 0.0, 0.0, 13392.6, 0.0048, 35, 30\n",
      "SA,TSP_160, 0, inf, 10, 0, 0.0, 0.0, 13392.6, 0.0050, 35, 40\n",
      "SA,TSP_160, 0, inf, 10, 0, 0.0, 0.0, 13392.6, 0.0037, 35, 50\n",
      "SA,TSP_160, 0, inf, 10, 0, 0.0, 0.0, 14095.6, 0.0078, 70, 60\n",
      "SA,TSP_160, 0, inf, 10, 0, 0.0, 0.0, 14095.6, 0.0043, 70, 70\n",
      "SA,TSP_160, 0, inf, 10, 0, 0.0, 0.0, 14095.6, 0.0036, 70, 80\n",
      "SA,TSP_160, 0, inf, 10, 0, 0.0, 0.0, 14095.6, 0.0032, 70, 90\n",
      "SA,TSP_160, 0, inf, 10, 0, 0.0, 0.0, 13824.4, 0.0030, 69, 100\n"
     ]
    }
   ],
   "source": [
    "for i in range(10, 110, 10):\n",
    "    np.random.seed(7641)\n",
    "    sa(problem_tsp_160, \"TSP_160\", mlrose.ArithDecay(init_temp=i), np.inf, 10)"
   ]
  },
  {
   "cell_type": "markdown",
   "id": "0b857ba9-7f79-40e4-bfdd-ac21be439294",
   "metadata": {},
   "source": [
    "## GA"
   ]
  },
  {
   "cell_type": "code",
   "execution_count": 35,
   "id": "fa7f9de8-42d8-4c72-a74c-77cdd83bf5fc",
   "metadata": {},
   "outputs": [
    {
     "name": "stdout",
     "output_type": "stream",
     "text": [
      "GA,TPS_160, 0, inf, 10, 40, 0.1, 0.0, 14524.8, 0.1648, 48\n",
      "GA,TPS_160, 0, inf, 10, 80, 0.1, 0.0, 14365.1, 0.2821, 47\n",
      "GA,TPS_160, 0, inf, 10, 120, 0.1, 0.0, 14487.9, 0.5511, 58\n",
      "GA,TPS_160, 0, inf, 10, 160, 0.1, 0.0, 14607.0, 0.5488, 46\n",
      "GA,TPS_160, 0, inf, 10, 200, 0.1, 0.0, 14759.7, 0.6803, 43\n",
      "GA,TPS_160, 0, inf, 10, 240, 0.1, 0.0, 14526.0, 0.5801, 32\n",
      "GA,TPS_160, 0, inf, 10, 280, 0.1, 0.0, 14669.6, 0.8743, 39\n",
      "GA,TPS_160, 0, inf, 10, 320, 0.1, 0.0, 14424.9, 0.5404, 22\n",
      "GA,TPS_160, 0, inf, 10, 360, 0.1, 0.0, 14904.0, 2.2377, 83\n",
      "GA,TPS_160, 0, inf, 10, 400, 0.1, 0.0, 14645.3, 1.4049, 45\n",
      "GA,TPS_160, 0, inf, 10, 440, 0.1, 0.0, 14453.6, 1.0326, 29\n",
      "GA,TPS_160, 0, inf, 10, 480, 0.1, 0.0, 14908.0, 2.0081, 52\n",
      "GA,TPS_160, 0, inf, 10, 520, 0.1, 0.0, 14675.5, 1.6404, 40\n",
      "GA,TPS_160, 0, inf, 10, 560, 0.1, 0.0, 14742.8, 1.7319, 37\n",
      "GA,TPS_160, 0, inf, 10, 600, 0.1, 0.0, 14896.6, 4.3927, 93\n",
      "GA,TPS_160, 0, inf, 10, 640, 0.1, 0.0, 14770.4, 2.9192, 57\n",
      "GA,TPS_160, 0, inf, 10, 680, 0.1, 0.0, 14894.9, 4.5893, 84\n",
      "GA,TPS_160, 0, inf, 10, 720, 0.1, 0.0, 14511.3, 1.9004, 33\n",
      "GA,TPS_160, 0, inf, 10, 760, 0.1, 0.0, 14767.6, 2.1986, 37\n",
      "GA,TPS_160, 0, inf, 10, 800, 0.1, 0.0, 14912.2, 6.3131, 100\n"
     ]
    }
   ],
   "source": [
    "for i in range(40, 840, 40):\n",
    "    np.random.seed(7641)\n",
    "    ga(problem_tsp_160, \"TSP_160\", np.inf, 10, i)"
   ]
  },
  {
   "cell_type": "markdown",
   "id": "eb7fda68-683a-4241-8987-57cfe293dd8e",
   "metadata": {},
   "source": [
    "# MIMIC"
   ]
  },
  {
   "cell_type": "code",
   "execution_count": 36,
   "id": "1aebba71-2ea5-4c35-8474-10fc9c0257f8",
   "metadata": {},
   "outputs": [
    {
     "name": "stdout",
     "output_type": "stream",
     "text": [
      "MIMIC,TSP_160, 0, inf, 10, 40, 0.0, 0.2, 12891.7, 1.3922, 11\n",
      "MIMIC,TSP_160, 0, inf, 10, 80, 0.0, 0.2, 12891.7, 1.5870, 11\n",
      "MIMIC,TSP_160, 0, inf, 10, 120, 0.0, 0.2, 12701.7, 1.8484, 11\n",
      "MIMIC,TSP_160, 0, inf, 10, 160, 0.0, 0.2, 13686.2, 2.2588, 12\n",
      "MIMIC,TSP_160, 0, inf, 10, 200, 0.0, 0.2, 13814.6, 2.9822, 14\n",
      "MIMIC,TSP_160, 0, inf, 10, 240, 0.0, 0.2, 14109.0, 4.2148, 18\n",
      "MIMIC,TSP_160, 0, inf, 10, 280, 0.0, 0.2, 14052.8, 3.7592, 15\n",
      "MIMIC,TSP_160, 0, inf, 10, 320, 0.0, 0.2, 14081.3, 5.5153, 20\n",
      "MIMIC,TSP_160, 0, inf, 10, 360, 0.0, 0.2, 14113.9, 5.0932, 17\n",
      "MIMIC,TSP_160, 0, inf, 10, 400, 0.0, 0.2, 14079.5, 6.0428, 19\n",
      "MIMIC,TSP_160, 0, inf, 10, 440, 0.0, 0.2, 14282.3, 4.6628, 14\n",
      "MIMIC,TSP_160, 0, inf, 10, 480, 0.0, 0.2, 14021.2, 4.8522, 14\n",
      "MIMIC,TSP_160, 0, inf, 10, 520, 0.0, 0.2, 14346.7, 8.1890, 22\n",
      "MIMIC,TSP_160, 0, inf, 10, 560, 0.0, 0.2, 14565.5, 8.1732, 21\n",
      "MIMIC,TSP_160, 0, inf, 10, 600, 0.0, 0.2, 14497.5, 7.7245, 18\n",
      "MIMIC,TSP_160, 0, inf, 10, 640, 0.0, 0.2, 14829.1, 8.8751, 20\n",
      "MIMIC,TSP_160, 0, inf, 10, 680, 0.0, 0.2, 14562.6, 10.1406, 22\n",
      "MIMIC,TSP_160, 0, inf, 10, 720, 0.0, 0.2, 14602.5, 7.2877, 15\n",
      "MIMIC,TSP_160, 0, inf, 10, 760, 0.0, 0.2, 14312.9, 9.0536, 18\n",
      "MIMIC,TSP_160, 0, inf, 10, 800, 0.0, 0.2, 14438.9, 10.0912, 19\n",
      "MIMIC,TSP_160, 0, inf, 10, 840, 0.0, 0.2, 14590.2, 11.3477, 21\n",
      "MIMIC,TSP_160, 0, inf, 10, 880, 0.0, 0.2, 14771.4, 11.0371, 20\n",
      "MIMIC,TSP_160, 0, inf, 10, 920, 0.0, 0.2, 14299.9, 10.0738, 17\n",
      "MIMIC,TSP_160, 0, inf, 10, 960, 0.0, 0.2, 14836.0, 14.2812, 24\n",
      "MIMIC,TSP_160, 0, inf, 10, 1000, 0.0, 0.2, 14655.2, 12.5208, 20\n",
      "MIMIC,TSP_160, 0, inf, 10, 1040, 0.0, 0.2, 14752.4, 12.7716, 20\n",
      "MIMIC,TSP_160, 0, inf, 10, 1080, 0.0, 0.2, 14648.5, 16.3464, 25\n",
      "MIMIC,TSP_160, 0, inf, 10, 1120, 0.0, 0.2, 14779.1, 12.7645, 19\n",
      "MIMIC,TSP_160, 0, inf, 10, 1160, 0.0, 0.2, 14694.3, 13.8207, 20\n"
     ]
    }
   ],
   "source": [
    "for i in range(40, 1200, 40):\n",
    "    np.random.seed(7641)\n",
    "    mimic(problem_tsp_160, \"TSP_160\", np.inf, 10,  i, 0.2)"
   ]
  }
 ],
 "metadata": {
  "kernelspec": {
   "display_name": "Python 3 (ipykernel)",
   "language": "python",
   "name": "python3"
  },
  "language_info": {
   "codemirror_mode": {
    "name": "ipython",
    "version": 3
   },
   "file_extension": ".py",
   "mimetype": "text/x-python",
   "name": "python",
   "nbconvert_exporter": "python",
   "pygments_lexer": "ipython3",
   "version": "3.9.18"
  }
 },
 "nbformat": 4,
 "nbformat_minor": 5
}
