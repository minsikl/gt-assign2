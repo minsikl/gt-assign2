{
 "cells": [
  {
   "cell_type": "markdown",
   "id": "c4a47036-c8dd-4c48-890d-f323f9df3da1",
   "metadata": {},
   "source": [
    "# KNAPSACK"
   ]
  },
  {
   "cell_type": "code",
   "execution_count": 62,
   "id": "d5ba4b43-df39-4a44-90c5-8bc5346b1d8b",
   "metadata": {},
   "outputs": [
    {
     "name": "stdout",
     "output_type": "stream",
     "text": [
      "algorithm, problm, restarts, max_iters, max_attempts, pop_size, mutation_prob, keep_act, fitness, execution time, iteration, temperature\n"
     ]
    }
   ],
   "source": [
    "print(\"algorithm, problm, restarts, max_iters, max_attempts, pop_size, mutation_prob, keep_act, fitness, execution time, iteration, temperature\")"
   ]
  },
  {
   "cell_type": "code",
   "execution_count": 63,
   "id": "f2ed332f-3440-46e7-ac6a-b42f2d869890",
   "metadata": {},
   "outputs": [],
   "source": [
    "import mlrose_hiive as mlrose\n",
    "import numpy as np\n",
    "import time"
   ]
  },
  {
   "cell_type": "code",
   "execution_count": 64,
   "id": "4a825ddf-9363-4224-bd5d-e2aaaf2d6805",
   "metadata": {},
   "outputs": [],
   "source": [
    "np.random.seed(7641)\n",
    "\n",
    "# Define Knapsack problem\n",
    "\n",
    "# Define the maximum capacity for the knapsack problem\n",
    "max_weight_pct = 0.35  # max_weight_pct is a fraction of the total weight\n",
    "\n",
    "problem_kn_20 = mlrose.KnapsackOpt(weights=np.random.randint(1, 300, 20), values=np.random.randint(10, 300, 20), max_weight_pct=max_weight_pct, maximize=True)\n",
    "problem_kn_40 = mlrose.KnapsackOpt(weights=np.random.randint(1, 300, 40), values=np.random.randint(10, 300, 40), max_weight_pct=max_weight_pct, maximize=True)\n",
    "problem_kn_80 = mlrose.KnapsackOpt(weights=np.random.randint(1, 300, 80), values=np.random.randint(10, 300, 80), max_weight_pct=max_weight_pct, maximize=True)\n",
    "problem_kn_160 = mlrose.KnapsackOpt(weights=np.random.randint(1, 300, 160), values=np.random.randint(10, 300, 160), max_weight_pct=max_weight_pct, maximize=True)"
   ]
  },
  {
   "cell_type": "code",
   "execution_count": 65,
   "id": "b84a5f1f-e6e0-443a-9894-b831d882ee26",
   "metadata": {
    "scrolled": true
   },
   "outputs": [],
   "source": [
    "## Random Hill Climbing\n",
    "\n",
    "def rhc(problem, problem_name, restarts, max_iters, max_attempts):\n",
    "    start_time = time.perf_counter()\n",
    "    best_state, best_fitness, curve, global_iters = mlrose.random_hill_climb(problem, restarts=restarts, max_iters=max_iters, max_attempts=max_attempts, curve = True)\n",
    "    rhc_time = time.perf_counter() - start_time\n",
    "    print(\"RHC,{0}, {1}, {2}, {3}, {4}, {5:.1f}, {6:.1f}, {7:.1f}, {8:.4f}, {9}\".format(problem_name, restarts, max_iters, max_attempts, 0, 0, 0, best_fitness, rhc_time, global_iters))"
   ]
  },
  {
   "cell_type": "code",
   "execution_count": 66,
   "id": "f698a494-3837-4468-83c9-1d7909eecb9b",
   "metadata": {},
   "outputs": [],
   "source": [
    "## Simulated_Annealing\n",
    "\n",
    "def sa(problem, problem_name, schedule=mlrose.ArithDecay(init_temp=10), max_iters=5000, max_attempts=10, random_state = 7641, curve = True):\n",
    "    start_time = time.perf_counter()\n",
    "    best_state, best_fitness, curve = mlrose.simulated_annealing(problem, schedule = schedule, max_attempts=max_attempts, max_iters=max_iters, random_state = random_state, curve = curve)\n",
    "    sa_time = time.perf_counter() - start_time\n",
    "    print(\"SA,{0}, {1}, {2}, {3}, {4}, {5:.1f}, {6:.1f}, {7:.1f}, {8:.4f}, {9}, {10}\".format(problem_name, 0, max_iters, max_attempts, 0, 0, 0, best_fitness, sa_time, len(curve), schedule))"
   ]
  },
  {
   "cell_type": "code",
   "execution_count": 67,
   "id": "b150289d-85e4-4b76-84ea-86771f62322a",
   "metadata": {},
   "outputs": [],
   "source": [
    "## Genetic Algorithm\n",
    "\n",
    "def ga(problem, problem_name, max_iters=100, max_attempts=100, pop_size=400, mutation_prob = 0.1, random_state = 7641, curve = True):\n",
    "    start_time = time.perf_counter()\n",
    "    best_state, best_fitness, curve = mlrose.genetic_alg(problem, random_state = random_state, curve=curve, max_iters=max_iters, max_attempts=max_attempts, pop_size=pop_size, mutation_prob=mutation_prob)\n",
    "    ga_time = time.perf_counter() - start_time\n",
    "    print(\"GA,{0}, {1}, {2}, {3}, {4}, {5:.1f}, {6:.1f}, {7:.1f}, {8:.4f}, {9}\".format(problem_name, 0, max_iters, max_attempts, pop_size, mutation_prob, 0, best_fitness, ga_time, len(curve)))"
   ]
  },
  {
   "cell_type": "code",
   "execution_count": 68,
   "id": "53adf8ef-4422-450b-a0fb-745c541b7e32",
   "metadata": {},
   "outputs": [],
   "source": [
    "## MIMIC\n",
    "\n",
    "def mimic(problem, problem_name, max_iters=10, max_attempts=10, pop_size=6000, keep_pct = 0.2, random_state = 7641, curve = True):\n",
    "    start_time = time.perf_counter()\n",
    "    best_state, best_fitness, curve = mlrose.mimic(problem, max_attempts=max_attempts, max_iters=max_iters, random_state = random_state, pop_size= pop_size, keep_pct = keep_pct, curve = curve)\n",
    "    ga_time = time.perf_counter() - start_time\n",
    "    print(\"MIMIC,{0}, {1}, {2}, {3}, {4}, {5:.1f}, {6:.1f}, {7:.1f}, {8:.4f}, {9}\".format(problem_name, 0, max_iters, max_attempts, pop_size, 0, keep_pct, best_fitness, ga_time, len(curve)))"
   ]
  },
  {
   "cell_type": "markdown",
   "id": "fbb04d11-6b23-4ded-928a-78c44676c805",
   "metadata": {},
   "source": [
    "## RHC"
   ]
  },
  {
   "cell_type": "code",
   "execution_count": 82,
   "id": "92ad674e-79ce-4e14-b2f1-6988cd598081",
   "metadata": {},
   "outputs": [
    {
     "name": "stdout",
     "output_type": "stream",
     "text": [
      "RHC,KN_40, 100, inf, 10, 0, 0.0, 0.0, 3509.0, 0.0449, 1114\n",
      "RHC,KN_40, 200, inf, 10, 0, 0.0, 0.0, 3436.0, 0.1006, 2196\n",
      "RHC,KN_40, 300, inf, 10, 0, 0.0, 0.0, 3263.0, 0.0676, 3170\n",
      "RHC,KN_40, 400, inf, 10, 0, 0.0, 0.0, 3367.0, 0.0545, 4288\n",
      "RHC,KN_40, 500, inf, 10, 0, 0.0, 0.0, 3665.0, 0.0671, 5293\n",
      "RHC,KN_40, 600, inf, 10, 0, 0.0, 0.0, 3540.0, 0.0799, 6475\n",
      "RHC,KN_40, 700, inf, 10, 0, 0.0, 0.0, 3426.0, 0.0971, 7465\n",
      "RHC,KN_40, 800, inf, 10, 0, 0.0, 0.0, 3299.0, 0.1043, 8618\n",
      "RHC,KN_40, 900, inf, 10, 0, 0.0, 0.0, 3731.0, 0.1133, 9608\n",
      "RHC,KN_40, 1000, inf, 10, 0, 0.0, 0.0, 3366.0, 0.1587, 10675\n"
     ]
    }
   ],
   "source": [
    "np.random.seed(7641)\n",
    "\n",
    "for i in range(100, 1100, 100):\n",
    "    rhc(problem_kn_40, \"KN_40\", i, np.inf, 10)"
   ]
  },
  {
   "cell_type": "markdown",
   "id": "5aec1f3c-672a-4a78-8531-c8c386d70662",
   "metadata": {},
   "source": [
    "## SA"
   ]
  },
  {
   "cell_type": "code",
   "execution_count": 84,
   "id": "4cdc030d-e799-4c7e-8d28-adb2fb422f21",
   "metadata": {},
   "outputs": [
    {
     "name": "stdout",
     "output_type": "stream",
     "text": [
      "SA,KN_40, 0, inf, 10, 0, 0.0, 0.0, 2348.0, 0.0008, 10, 10\n",
      "SA,KN_40, 0, inf, 10, 0, 0.0, 0.0, 2678.0, 0.0009, 18, 20\n",
      "SA,KN_40, 0, inf, 10, 0, 0.0, 0.0, 2585.0, 0.0008, 17, 30\n",
      "SA,KN_40, 0, inf, 10, 0, 0.0, 0.0, 2585.0, 0.0010, 17, 40\n",
      "SA,KN_40, 0, inf, 10, 0, 0.0, 0.0, 2585.0, 0.0008, 17, 50\n",
      "SA,KN_40, 0, inf, 10, 0, 0.0, 0.0, 2585.0, 0.0016, 17, 60\n",
      "SA,KN_40, 0, inf, 10, 0, 0.0, 0.0, 2585.0, 0.0012, 17, 70\n",
      "SA,KN_40, 0, inf, 10, 0, 0.0, 0.0, 2585.0, 0.0012, 17, 80\n",
      "SA,KN_40, 0, inf, 10, 0, 0.0, 0.0, 2585.0, 0.0014, 17, 90\n",
      "SA,KN_40, 0, inf, 10, 0, 0.0, 0.0, 2585.0, 0.0012, 17, 100\n",
      "SA,KN_40, 0, inf, 10, 0, 0.0, 0.0, 2585.0, 0.0017, 17, 110\n",
      "SA,KN_40, 0, inf, 10, 0, 0.0, 0.0, 2585.0, 0.0019, 17, 120\n",
      "SA,KN_40, 0, inf, 10, 0, 0.0, 0.0, 2585.0, 0.0015, 17, 130\n",
      "SA,KN_40, 0, inf, 10, 0, 0.0, 0.0, 2585.0, 0.0012, 17, 140\n",
      "SA,KN_40, 0, inf, 10, 0, 0.0, 0.0, 2585.0, 0.0010, 17, 150\n",
      "SA,KN_40, 0, inf, 10, 0, 0.0, 0.0, 2585.0, 0.0011, 17, 160\n",
      "SA,KN_40, 0, inf, 10, 0, 0.0, 0.0, 2585.0, 0.0011, 17, 170\n",
      "SA,KN_40, 0, inf, 10, 0, 0.0, 0.0, 2585.0, 0.0011, 17, 180\n",
      "SA,KN_40, 0, inf, 10, 0, 0.0, 0.0, 2585.0, 0.0012, 17, 190\n",
      "SA,KN_40, 0, inf, 10, 0, 0.0, 0.0, 2585.0, 0.0006, 17, 200\n",
      "SA,KN_40, 0, inf, 10, 0, 0.0, 0.0, 2585.0, 0.0007, 17, 210\n",
      "SA,KN_40, 0, inf, 10, 0, 0.0, 0.0, 2585.0, 0.0008, 17, 220\n",
      "SA,KN_40, 0, inf, 10, 0, 0.0, 0.0, 2585.0, 0.0009, 17, 230\n",
      "SA,KN_40, 0, inf, 10, 0, 0.0, 0.0, 2585.0, 0.0008, 17, 240\n",
      "SA,KN_40, 0, inf, 10, 0, 0.0, 0.0, 2585.0, 0.0009, 17, 250\n",
      "SA,KN_40, 0, inf, 10, 0, 0.0, 0.0, 2585.0, 0.0008, 17, 260\n",
      "SA,KN_40, 0, inf, 10, 0, 0.0, 0.0, 2585.0, 0.0007, 17, 270\n",
      "SA,KN_40, 0, inf, 10, 0, 0.0, 0.0, 2585.0, 0.0008, 17, 280\n",
      "SA,KN_40, 0, inf, 10, 0, 0.0, 0.0, 2585.0, 0.0007, 17, 290\n",
      "SA,KN_40, 0, inf, 10, 0, 0.0, 0.0, 2585.0, 0.0008, 17, 300\n",
      "SA,KN_40, 0, inf, 10, 0, 0.0, 0.0, 3499.0, 0.0047, 181, 310\n",
      "SA,KN_40, 0, inf, 10, 0, 0.0, 0.0, 2961.0, 0.0076, 378, 320\n",
      "SA,KN_40, 0, inf, 10, 0, 0.0, 0.0, 2952.0, 0.0089, 439, 330\n",
      "SA,KN_40, 0, inf, 10, 0, 0.0, 0.0, 3516.0, 0.0211, 829, 340\n",
      "SA,KN_40, 0, inf, 10, 0, 0.0, 0.0, 3075.0, 0.0061, 176, 350\n",
      "SA,KN_40, 0, inf, 10, 0, 0.0, 0.0, 3075.0, 0.0053, 176, 360\n",
      "SA,KN_40, 0, inf, 10, 0, 0.0, 0.0, 3586.0, 0.0138, 336, 370\n",
      "SA,KN_40, 0, inf, 10, 0, 0.0, 0.0, 3181.0, 0.0068, 174, 380\n",
      "SA,KN_40, 0, inf, 10, 0, 0.0, 0.0, 3181.0, 0.0052, 174, 390\n",
      "SA,KN_40, 0, inf, 10, 0, 0.0, 0.0, 2986.0, 0.0050, 172, 400\n",
      "SA,KN_40, 0, inf, 10, 0, 0.0, 0.0, 2986.0, 0.0048, 172, 410\n",
      "SA,KN_40, 0, inf, 10, 0, 0.0, 0.0, 3183.0, 0.0049, 176, 420\n",
      "SA,KN_40, 0, inf, 10, 0, 0.0, 0.0, 3183.0, 0.0061, 176, 430\n",
      "SA,KN_40, 0, inf, 10, 0, 0.0, 0.0, 3183.0, 0.0059, 176, 440\n",
      "SA,KN_40, 0, inf, 10, 0, 0.0, 0.0, 2644.0, 0.0145, 395, 450\n",
      "SA,KN_40, 0, inf, 10, 0, 0.0, 0.0, 2644.0, 0.0101, 395, 460\n",
      "SA,KN_40, 0, inf, 10, 0, 0.0, 0.0, 2644.0, 0.0112, 395, 470\n",
      "SA,KN_40, 0, inf, 10, 0, 0.0, 0.0, 2957.0, 0.0188, 614, 480\n",
      "SA,KN_40, 0, inf, 10, 0, 0.0, 0.0, 3255.0, 0.0215, 786, 490\n",
      "SA,KN_40, 0, inf, 10, 0, 0.0, 0.0, 3255.0, 0.0147, 786, 500\n",
      "SA,KN_40, 0, inf, 10, 0, 0.0, 0.0, 3314.0, 0.0134, 420, 510\n",
      "SA,KN_40, 0, inf, 10, 0, 0.0, 0.0, 3169.0, 0.0110, 181, 520\n",
      "SA,KN_40, 0, inf, 10, 0, 0.0, 0.0, 3169.0, 0.0104, 181, 530\n",
      "SA,KN_40, 0, inf, 10, 0, 0.0, 0.0, 3169.0, 0.0088, 181, 540\n",
      "SA,KN_40, 0, inf, 10, 0, 0.0, 0.0, 3276.0, 0.0466, 996, 550\n",
      "SA,KN_40, 0, inf, 10, 0, 0.0, 0.0, 3241.0, 0.0406, 905, 560\n",
      "SA,KN_40, 0, inf, 10, 0, 0.0, 0.0, 3241.0, 0.0428, 905, 570\n",
      "SA,KN_40, 0, inf, 10, 0, 0.0, 0.0, 3241.0, 0.0371, 905, 580\n",
      "SA,KN_40, 0, inf, 10, 0, 0.0, 0.0, 2624.0, 0.0578, 2777, 590\n",
      "SA,KN_40, 0, inf, 10, 0, 0.0, 0.0, 2538.0, 0.0066, 365, 600\n",
      "SA,KN_40, 0, inf, 10, 0, 0.0, 0.0, 2279.0, 0.0058, 352, 610\n",
      "SA,KN_40, 0, inf, 10, 0, 0.0, 0.0, 2379.0, 0.0057, 342, 620\n",
      "SA,KN_40, 0, inf, 10, 0, 0.0, 0.0, 3254.0, 0.0063, 377, 630\n",
      "SA,KN_40, 0, inf, 10, 0, 0.0, 0.0, 3254.0, 0.0067, 377, 640\n",
      "SA,KN_40, 0, inf, 10, 0, 0.0, 0.0, 3254.0, 0.0069, 377, 650\n",
      "SA,KN_40, 0, inf, 10, 0, 0.0, 0.0, 3254.0, 0.0070, 377, 660\n",
      "SA,KN_40, 0, inf, 10, 0, 0.0, 0.0, 3254.0, 0.0072, 377, 670\n",
      "SA,KN_40, 0, inf, 10, 0, 0.0, 0.0, 3026.0, 0.0106, 555, 680\n",
      "SA,KN_40, 0, inf, 10, 0, 0.0, 0.0, 2777.0, 0.0541, 2817, 690\n",
      "SA,KN_40, 0, inf, 10, 0, 0.0, 0.0, 2303.0, 0.0078, 373, 700\n",
      "SA,KN_40, 0, inf, 10, 0, 0.0, 0.0, 1870.0, 0.0787, 1891, 710\n",
      "SA,KN_40, 0, inf, 10, 0, 0.0, 0.0, 2513.0, 0.0641, 1504, 720\n",
      "SA,KN_40, 0, inf, 10, 0, 0.0, 0.0, 2970.0, 0.0290, 1331, 730\n",
      "SA,KN_40, 0, inf, 10, 0, 0.0, 0.0, 2326.0, 0.0154, 819, 740\n",
      "SA,KN_40, 0, inf, 10, 0, 0.0, 0.0, 2744.0, 0.0351, 1847, 750\n",
      "SA,KN_40, 0, inf, 10, 0, 0.0, 0.0, 3057.0, 0.0330, 1663, 760\n",
      "SA,KN_40, 0, inf, 10, 0, 0.0, 0.0, 3057.0, 0.0334, 1663, 770\n",
      "SA,KN_40, 0, inf, 10, 0, 0.0, 0.0, 2270.0, 0.0118, 586, 780\n",
      "SA,KN_40, 0, inf, 10, 0, 0.0, 0.0, 2898.0, 0.0092, 400, 790\n",
      "SA,KN_40, 0, inf, 10, 0, 0.0, 0.0, 2492.0, 0.0558, 2215, 800\n",
      "SA,KN_40, 0, inf, 10, 0, 0.0, 0.0, 2492.0, 0.0678, 2215, 810\n",
      "SA,KN_40, 0, inf, 10, 0, 0.0, 0.0, 3075.0, 0.0485, 2391, 820\n",
      "SA,KN_40, 0, inf, 10, 0, 0.0, 0.0, 2808.0, 0.2048, 7740, 830\n",
      "SA,KN_40, 0, inf, 10, 0, 0.0, 0.0, 2399.0, 0.0072, 155, 840\n",
      "SA,KN_40, 0, inf, 10, 0, 0.0, 0.0, 2399.0, 0.0072, 155, 850\n",
      "SA,KN_40, 0, inf, 10, 0, 0.0, 0.0, 2399.0, 0.0071, 155, 860\n",
      "SA,KN_40, 0, inf, 10, 0, 0.0, 0.0, 2399.0, 0.0073, 155, 870\n",
      "SA,KN_40, 0, inf, 10, 0, 0.0, 0.0, 2784.0, 0.0267, 555, 880\n",
      "SA,KN_40, 0, inf, 10, 0, 0.0, 0.0, 2773.0, 0.0061, 134, 890\n",
      "SA,KN_40, 0, inf, 10, 0, 0.0, 0.0, 2904.0, 0.0062, 136, 900\n",
      "SA,KN_40, 0, inf, 10, 0, 0.0, 0.0, 2904.0, 0.0062, 136, 910\n",
      "SA,KN_40, 0, inf, 10, 0, 0.0, 0.0, 3560.0, 0.0746, 2987, 920\n",
      "SA,KN_40, 0, inf, 10, 0, 0.0, 0.0, 3234.0, 0.0534, 2764, 930\n",
      "SA,KN_40, 0, inf, 10, 0, 0.0, 0.0, 2343.0, 0.0643, 3274, 940\n",
      "SA,KN_40, 0, inf, 10, 0, 0.0, 0.0, 2917.0, 0.0715, 2418, 950\n",
      "SA,KN_40, 0, inf, 10, 0, 0.0, 0.0, 2917.0, 0.1140, 2418, 960\n",
      "SA,KN_40, 0, inf, 10, 0, 0.0, 0.0, 2917.0, 0.1162, 2418, 970\n",
      "SA,KN_40, 0, inf, 10, 0, 0.0, 0.0, 2917.0, 0.0759, 2418, 980\n",
      "SA,KN_40, 0, inf, 10, 0, 0.0, 0.0, 2520.0, 0.1279, 4602, 990\n"
     ]
    }
   ],
   "source": [
    "np.random.seed(7641)\n",
    "\n",
    "for i in range(10, 1000, 10):\n",
    "    sa(problem_kn_40, \"KN_40\", mlrose.ArithDecay(init_temp=i), np.inf, 10)"
   ]
  },
  {
   "cell_type": "markdown",
   "id": "0b857ba9-7f79-40e4-bfdd-ac21be439294",
   "metadata": {},
   "source": [
    "## GA"
   ]
  },
  {
   "cell_type": "code",
   "execution_count": 86,
   "id": "fa7f9de8-42d8-4c72-a74c-77cdd83bf5fc",
   "metadata": {},
   "outputs": [
    {
     "name": "stdout",
     "output_type": "stream",
     "text": [
      "GA,KN_40, 0, inf, 10, 40, 0.1, 0.0, 3776.0, 0.0507, 28\n",
      "GA,KN_40, 0, inf, 10, 80, 0.1, 0.0, 4076.0, 0.1626, 42\n",
      "GA,KN_40, 0, inf, 10, 120, 0.1, 0.0, 4177.0, 0.1107, 25\n",
      "GA,KN_40, 0, inf, 10, 160, 0.1, 0.0, 4261.0, 0.2598, 42\n",
      "GA,KN_40, 0, inf, 10, 200, 0.1, 0.0, 4277.0, 0.3368, 44\n",
      "GA,KN_40, 0, inf, 10, 240, 0.1, 0.0, 4277.0, 0.2885, 31\n",
      "GA,KN_40, 0, inf, 10, 280, 0.1, 0.0, 4372.0, 0.4370, 40\n",
      "GA,KN_40, 0, inf, 10, 320, 0.1, 0.0, 4372.0, 0.4491, 37\n",
      "GA,KN_40, 0, inf, 10, 360, 0.1, 0.0, 4284.0, 0.4795, 34\n",
      "GA,KN_40, 0, inf, 10, 400, 0.1, 0.0, 4350.0, 0.5888, 37\n",
      "GA,KN_40, 0, inf, 10, 440, 0.1, 0.0, 4353.0, 0.5726, 33\n",
      "GA,KN_40, 0, inf, 10, 480, 0.1, 0.0, 4372.0, 0.5784, 30\n",
      "GA,KN_40, 0, inf, 10, 520, 0.1, 0.0, 4372.0, 0.7410, 35\n",
      "GA,KN_40, 0, inf, 10, 560, 0.1, 0.0, 4288.0, 0.8476, 36\n",
      "GA,KN_40, 0, inf, 10, 600, 0.1, 0.0, 4372.0, 0.8554, 36\n",
      "GA,KN_40, 0, inf, 10, 640, 0.1, 0.0, 4372.0, 1.0019, 40\n",
      "GA,KN_40, 0, inf, 10, 680, 0.1, 0.0, 4372.0, 1.0486, 37\n",
      "GA,KN_40, 0, inf, 10, 720, 0.1, 0.0, 4372.0, 0.9270, 31\n",
      "GA,KN_40, 0, inf, 10, 760, 0.1, 0.0, 4372.0, 1.1736, 36\n",
      "GA,KN_40, 0, inf, 10, 800, 0.1, 0.0, 4372.0, 1.1513, 35\n"
     ]
    }
   ],
   "source": [
    "np.random.seed(7641)\n",
    "\n",
    "for i in range(40, 840, 40):\n",
    "    ga(problem_kn_40, \"KN_40\", np.inf, 10, i)"
   ]
  },
  {
   "cell_type": "markdown",
   "id": "eb7fda68-683a-4241-8987-57cfe293dd8e",
   "metadata": {},
   "source": [
    "# MIMIC"
   ]
  },
  {
   "cell_type": "code",
   "execution_count": 87,
   "id": "1aebba71-2ea5-4c35-8474-10fc9c0257f8",
   "metadata": {},
   "outputs": [
    {
     "name": "stdout",
     "output_type": "stream",
     "text": [
      "MIMIC,KN_40, 0, inf, 10, 40, 0.0, 0.2, 3262.0, 7.5915, 15\n",
      "MIMIC,KN_40, 0, inf, 10, 80, 0.0, 0.2, 2654.0, 5.6908, 12\n",
      "MIMIC,KN_40, 0, inf, 10, 120, 0.0, 0.2, 3517.0, 13.0882, 29\n",
      "MIMIC,KN_40, 0, inf, 10, 160, 0.0, 0.2, 3205.0, 11.8272, 26\n",
      "MIMIC,KN_40, 0, inf, 10, 200, 0.0, 0.2, 3357.0, 7.5664, 16\n",
      "MIMIC,KN_40, 0, inf, 10, 240, 0.0, 0.2, 3413.0, 5.0640, 11\n",
      "MIMIC,KN_40, 0, inf, 10, 280, 0.0, 0.2, 3053.0, 5.5571, 12\n",
      "MIMIC,KN_40, 0, inf, 10, 320, 0.0, 0.2, 3226.0, 5.7380, 12\n",
      "MIMIC,KN_40, 0, inf, 10, 360, 0.0, 0.2, 3515.0, 12.0246, 24\n",
      "MIMIC,KN_40, 0, inf, 10, 400, 0.0, 0.2, 3666.0, 5.4434, 11\n",
      "MIMIC,KN_40, 0, inf, 10, 440, 0.0, 0.2, 3295.0, 6.3453, 13\n",
      "MIMIC,KN_40, 0, inf, 10, 480, 0.0, 0.2, 3467.0, 5.5614, 11\n",
      "MIMIC,KN_40, 0, inf, 10, 520, 0.0, 0.2, 3271.0, 7.6644, 15\n",
      "MIMIC,KN_40, 0, inf, 10, 560, 0.0, 0.2, 3485.0, 5.8250, 11\n",
      "MIMIC,KN_40, 0, inf, 10, 600, 0.0, 0.2, 3466.0, 6.7426, 13\n",
      "MIMIC,KN_40, 0, inf, 10, 640, 0.0, 0.2, 3500.0, 11.4518, 23\n",
      "MIMIC,KN_40, 0, inf, 10, 680, 0.0, 0.2, 3588.0, 7.8588, 15\n",
      "MIMIC,KN_40, 0, inf, 10, 720, 0.0, 0.2, 3543.0, 8.4787, 16\n",
      "MIMIC,KN_40, 0, inf, 10, 760, 0.0, 0.2, 3561.0, 11.9488, 23\n",
      "MIMIC,KN_40, 0, inf, 10, 800, 0.0, 0.2, 3746.0, 7.3901, 14\n"
     ]
    }
   ],
   "source": [
    "np.random.seed(7641)\n",
    "\n",
    "for i in range(40, 840, 40):\n",
    "    mimic(problem_kn_40, \"KN_40\", np.inf, 10,  i, 0.2)"
   ]
  },
  {
   "cell_type": "code",
   "execution_count": 88,
   "id": "0d027332-ef1b-424b-9874-644f125c8460",
   "metadata": {},
   "outputs": [
    {
     "name": "stdout",
     "output_type": "stream",
     "text": [
      "MIMIC,KN_40, 0, inf, 10, 840, 0.0, 0.2, 3475.0, 6.4493, 12\n",
      "MIMIC,KN_40, 0, inf, 10, 880, 0.0, 0.2, 3541.0, 8.7088, 16\n",
      "MIMIC,KN_40, 0, inf, 10, 920, 0.0, 0.2, 3568.0, 8.2755, 15\n",
      "MIMIC,KN_40, 0, inf, 10, 960, 0.0, 0.2, 3720.0, 13.6262, 25\n",
      "MIMIC,KN_40, 0, inf, 10, 1000, 0.0, 0.2, 3525.0, 6.8354, 12\n",
      "MIMIC,KN_40, 0, inf, 10, 1040, 0.0, 0.2, 3575.0, 6.2781, 11\n",
      "MIMIC,KN_40, 0, inf, 10, 1080, 0.0, 0.2, 3476.0, 10.5330, 19\n",
      "MIMIC,KN_40, 0, inf, 10, 1120, 0.0, 0.2, 3515.0, 15.1419, 27\n",
      "MIMIC,KN_40, 0, inf, 10, 1160, 0.0, 0.2, 3420.0, 9.4484, 16\n"
     ]
    }
   ],
   "source": [
    "np.random.seed(7641)\n",
    "\n",
    "for i in range(840, 1200, 40):\n",
    "    mimic(problem_kn_40, \"KN_40\", np.inf, 10,  i, 0.2)"
   ]
  },
  {
   "cell_type": "code",
   "execution_count": 21,
   "id": "d182170c-53e1-4eaf-bc75-1a3ec5d0fa33",
   "metadata": {},
   "outputs": [
    {
     "name": "stdout",
     "output_type": "stream",
     "text": [
      "MIMIC,KN_80, 0, inf, 10, 400, 0.0, 0.2, 5808.0, 32.6380, 16\n"
     ]
    }
   ],
   "source": [
    "mimic(problem_kn_80, \"KN_80\", np.inf, 10,  400, 0.2)"
   ]
  },
  {
   "cell_type": "code",
   "execution_count": 25,
   "id": "40cd09eb-1a74-4275-b98a-326d9e1c7c8c",
   "metadata": {},
   "outputs": [
    {
     "name": "stdout",
     "output_type": "stream",
     "text": [
      "GA,KN_80, 0, inf, 10, 400, 0.2, 0.0, 8217.0, 1.8069, 123\n"
     ]
    }
   ],
   "source": [
    "ga(problem_kn_80, \"KN_80\", np.inf, 10,  400, 0.2)"
   ]
  },
  {
   "cell_type": "code",
   "execution_count": 37,
   "id": "863f0875-9557-48b5-aaeb-1643f837a2f7",
   "metadata": {},
   "outputs": [
    {
     "name": "stdout",
     "output_type": "stream",
     "text": [
      "MIMIC,KN_20, 0, inf, 10, 400, 0.0, 0.2, 1950.0, 2.6785, 19\n"
     ]
    }
   ],
   "source": [
    "mimic(problem_kn_20, \"KN_20\", np.inf, 10,  400, 0.2)"
   ]
  },
  {
   "cell_type": "code",
   "execution_count": 40,
   "id": "2c2c378d-c8b6-4162-b580-ff2a9203c327",
   "metadata": {},
   "outputs": [
    {
     "name": "stdout",
     "output_type": "stream",
     "text": [
      "GA,KN_20, 0, inf, 10, 400, 0.2, 0.0, 2135.0, 0.3125, 19\n",
      "GA,KN_40, 0, inf, 10, 400, 0.2, 0.0, 4372.0, 0.5617, 37\n",
      "GA,KN_80, 0, inf, 10, 400, 0.2, 0.0, 6961.0, 1.4979, 100\n",
      "GA,KN_160, 0, inf, 10, 400, 0.2, 0.0, 15952.0, 1.9753, 125\n"
     ]
    }
   ],
   "source": [
    "ga(problem_kn_20, \"KN_20\", np.inf, 10,  400, 0.2)\n",
    "ga(problem_kn_40, \"KN_40\", np.inf, 10,  400, 0.2)\n",
    "ga(problem_kn_80, \"KN_80\", np.inf, 10,  400, 0.2)\n",
    "ga(problem_kn_160, \"KN_160\", np.inf, 10,  400, 0.2)"
   ]
  },
  {
   "cell_type": "code",
   "execution_count": 41,
   "id": "b69ccf38-a39e-473c-bce8-f0314c5d1155",
   "metadata": {},
   "outputs": [
    {
     "name": "stdout",
     "output_type": "stream",
     "text": [
      "MIMIC,KN_20, 0, inf, 10, 400, 0.0, 0.2, 1950.0, 2.2455, 19\n",
      "MIMIC,KN_40, 0, inf, 10, 400, 0.0, 0.2, 3666.0, 5.2084, 11\n",
      "MIMIC,KN_80, 0, inf, 10, 400, 0.0, 0.2, 5036.0, 25.2736, 13\n",
      "MIMIC,KN_160, 0, inf, 10, 400, 0.0, 0.2, 10177.0, 107.3082, 14\n"
     ]
    }
   ],
   "source": [
    "mimic(problem_kn_20, \"KN_20\", np.inf, 10,  400, 0.2)\n",
    "mimic(problem_kn_40, \"KN_40\", np.inf, 10,  400, 0.2)\n",
    "mimic(problem_kn_80, \"KN_80\", np.inf, 10,  400, 0.2)\n",
    "mimic(problem_kn_160, \"KN_160\", np.inf, 10,  400, 0.2)"
   ]
  },
  {
   "cell_type": "code",
   "execution_count": null,
   "id": "43452ad0-d4ea-4a35-b71e-5bb5c649a3da",
   "metadata": {},
   "outputs": [],
   "source": []
  }
 ],
 "metadata": {
  "kernelspec": {
   "display_name": "Python 3 (ipykernel)",
   "language": "python",
   "name": "python3"
  },
  "language_info": {
   "codemirror_mode": {
    "name": "ipython",
    "version": 3
   },
   "file_extension": ".py",
   "mimetype": "text/x-python",
   "name": "python",
   "nbconvert_exporter": "python",
   "pygments_lexer": "ipython3",
   "version": "3.11.8"
  }
 },
 "nbformat": 4,
 "nbformat_minor": 5
}
